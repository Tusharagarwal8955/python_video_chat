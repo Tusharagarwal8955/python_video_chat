{
 "cells": [
  {
   "cell_type": "code",
   "execution_count": null,
   "id": "1eb2e816",
   "metadata": {},
   "outputs": [],
   "source": [
    "import socket, cv2, pickle,struct,imutils, threading\n",
    "\n",
    "# Socket Create\n",
    "server_socket = socket.socket(socket.AF_INET,socket.SOCK_STREAM)\n",
    "\n",
    "host_name  = socket.gethostname()\n",
    "host_ip = \"\"\n",
    "\n",
    "port = 9999\n",
    "socket_address = (host_ip,port)\n",
    "\n",
    "# Socket Bind\n",
    "server_socket.bind(socket_address)\n",
    "\n",
    "# Socket Listen\n",
    "server_socket.listen(5)\n",
    "print(\"LISTENING AT:\",socket_address)"
   ]
  },
  {
   "cell_type": "code",
   "execution_count": null,
   "id": "102c0262",
   "metadata": {},
   "outputs": [],
   "source": [
    "def send(client_socket,addr):\n",
    "        print('GOT CONNECTION FROM:',addr)\n",
    "        if client_socket:\n",
    "            vid = cv2.VideoCapture(0)\n",
    "\n",
    "            while(vid.isOpened()):\n",
    "                try:\n",
    "                    img,frame = vid.read()\n",
    "                    frame = imutils.resize(frame,width=320)\n",
    "                    a = pickle.dumps(frame)\n",
    "                    message = struct.pack(\"Q\",len(a))+a\n",
    "                    client_socket.sendall(message)\n",
    "                except ConnectionAbortedError:\n",
    "                    vid.release()\n",
    "                    client_socket.close()\n",
    "                    break"
   ]
  },
  {
   "cell_type": "code",
   "execution_count": null,
   "id": "b87d2777",
   "metadata": {},
   "outputs": [],
   "source": [
    "def recv():\n",
    "    data = b\"\"\n",
    "    payload_size = struct.calcsize(\"Q\")\n",
    "    while True:\n",
    "        while len(data) < payload_size:\n",
    "            packet = client_socket.recv(4*1024) # 4K\n",
    "            if not packet: break\n",
    "            data+=packet\n",
    "        packed_msg_size = data[:payload_size]\n",
    "        data = data[payload_size:]\n",
    "        msg_size = struct.unpack(\"Q\",packed_msg_size)[0]\n",
    "\n",
    "        while len(data) < msg_size:\n",
    "            data += client_socket.recv(4*1024)\n",
    "        frame_data = data[:msg_size]\n",
    "        data  = data[msg_size:]\n",
    "        frame = pickle.loads(frame_data)\n",
    "        cv2.imshow(\"Client to server video\",frame)\n",
    "        if cv2.waitKey(1)  == 13:\n",
    "            break\n",
    "    cv2.destroyAllWindows()\n",
    "    client_socket.close()"
   ]
  },
  {
   "cell_type": "code",
   "execution_count": null,
   "id": "fe097727",
   "metadata": {},
   "outputs": [],
   "source": [
    "while True:\n",
    "    client_socket,addr = server_socket.accept()\n",
    "        \n",
    "    if client_socket:\n",
    "        t2=threading.Thread(target=recv)\n",
    "        t2.start()\n",
    "        t1=threading.Thread(target=send, args=(client_socket, addr))\n",
    "        t1.start()"
   ]
  }
 ],
 "metadata": {
  "kernelspec": {
   "display_name": "Python 3",
   "language": "python",
   "name": "python3"
  },
  "language_info": {
   "codemirror_mode": {
    "name": "ipython",
    "version": 3
   },
   "file_extension": ".py",
   "mimetype": "text/x-python",
   "name": "python",
   "nbconvert_exporter": "python",
   "pygments_lexer": "ipython3",
   "version": "3.8.8"
  }
 },
 "nbformat": 4,
 "nbformat_minor": 5
}
